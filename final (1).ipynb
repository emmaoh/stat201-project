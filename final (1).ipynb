{
 "cells": [
  {
   "cell_type": "markdown",
   "id": "c1f99bf1-1cd0-4165-b6f4-6c40c959c9f6",
   "metadata": {},
   "source": [
    "# Examining the Housing Crisis In Vancouver "
   ]
  },
  {
   "cell_type": "markdown",
   "id": "b6500fcd-032a-4c48-94c0-a93dbd05786f",
   "metadata": {},
   "source": [
    "## Introduction "
   ]
  },
  {
   "cell_type": "markdown",
   "id": "6d88d149-6726-4609-8ee5-4ec5cc4d16f5",
   "metadata": {},
   "source": [
    "As known that the housing market in Vancouver is one of the most cost-expensive areas to live in Canada, how do areas within compare? Historically, it shows that the West side of Vancouver is the affluent area as it is known to be closer to local beaches with timeless scenic views. However, there has been a significant boom in attraction as of recently towards the East side as it provides a sense of friendly community in the prominent working areas.\n",
    "\n",
    "\n",
    "But what possible aspects could be attributing to this shift in the housing market between East and West Vancouver? The Eastside does not fail with its close proximity to popular neighborhoods and offers a diverse and welcoming community as a popular business district for the working class and educated professionals especially. In specific, the attraction of the East roots from the welcoming communities in various neighborhoods that are brought by single-family homes: a private residence occupied by a single household unit. Based on the last few years, the prices of single-family homes have increased slightly more on the East side at 12.4% than the West at a 12.2% growth (Pablo, C. 2021). In addition, for the given number of members that occupy the space, single-family homes consume more land, and have often been attributed as the cause of housing crises in many areas ((Glaeser & Gyourko, 2002) & (Schuetz, 2020)). This has ultimately led us to ponder: \n",
    "\n",
    "**Do the East and West sides of Vancouver display differences in the median land values and proportion of single-family homes?** \n",
    "\n",
    "To explore this question and the relation between land value in an area and the proportion of single-family housing in that area, we analyzed the [Property Tax Report](https://opendata.vancouver.ca/explore/dataset/property-tax-report/analyze/?dataChart=eyJxdWVyaWVzIjpbeyJjb25maWciOnsiZGF0YXNldCI6InByb3BlcnR5LXRheC1yZXBvcnQiLCJvcHRpb25zIjp7fX0sImNoYXJ0cyI6W3siYWxpZ25Nb250aCI6dHJ1ZSwidHlwZSI6ImNvbHVtbiIsImZ1bmMiOiJBVkciLCJ5QXhpcyI6ImN1cnJlbnRfbGFuZF92YWx1ZSIsInNjaWVudGlmaWNEaXNwbGF5Ijp0cnVlLCJjb2xvciI6IiMwMjc5QjEifV0sInhBeGlzIjoiY3VycmVudF9sYW5kX3ZhbHVlIiwibWF4cG9pbnRzIjo1MCwic29ydCI6IiJ9XSwidGltZXNjYWxlIjoiIiwiZGlzcGxheUxlZ2VuZCI6dHJ1ZSwiYWxpZ25Nb250aCI6dHJ1ZX0%3D) from the City of Vancouver. Among the many years that property taxes have been documented, this report will solely study the year of 2021 to investigate the present housing market. This dataset contains information on current land value, report year, neighborhood code and zoning classifications alongside various attributes of the properties from BC Assessment and City sources. Of the many zoning classifications, we will strictly be working with residential homes as the question investigates the study of the following: \n",
    "\n",
    "1. Single-family Dwelling – a private residence occupied by a single household unit \n",
    "\n",
    "2. Two-family Dwelling – independent residences designed to be occupied by two families \n",
    "\n",
    "3. Multiple Dwelling – residential duplexes, apartment buildings, condos, etc., that are designed to house three or more families in one structure\n",
    "\n",
    "4. Comprehensive Development Areas – comprising two or more residential or non-residential areas\n",
    "\n",
    "Through the dataset, we will utilize the current land value, and the response variable to analyze the following parameters: median value of houses in the particular area and the proportion of single family housing, to support the conclusion of the stated question. This report will analyze the median as our primary measure of center rather than the mean, as it is possible for the mean value to be influenced by outlier housing values.\n",
    "\n",
    " From the information gathered, the results expected to be found is that median land values on the West Side tend to be noticeably higher compared to the median land values on the East Side and a statistically significant difference in the proportion of single-family dwellings between the two sides of Vancouver. \n",
    "Specifically, there will be a significant difference for both aspects, as the West side, which is the area expected to have a higher median land value, is also expected to have a higher proportion of single-family dwellings from our findings. \n"
   ]
  },
  {
   "cell_type": "markdown",
   "id": "26e25b6c-72e1-4c37-9757-d3b1ba7c5710",
   "metadata": {},
   "source": [
    "## Preliminary Results"
   ]
  },
  {
   "cell_type": "code",
   "execution_count": 1,
   "id": "fd62a31e",
   "metadata": {},
   "outputs": [
    {
     "name": "stderr",
     "output_type": "stream",
     "text": [
      "── \u001b[1mAttaching packages\u001b[22m ─────────────────────────────────────── tidyverse 1.3.0 ──\n",
      "\n",
      "\u001b[32m✔\u001b[39m \u001b[34mggplot2\u001b[39m 3.3.3     \u001b[32m✔\u001b[39m \u001b[34mpurrr  \u001b[39m 0.3.4\n",
      "\u001b[32m✔\u001b[39m \u001b[34mtibble \u001b[39m 3.0.6     \u001b[32m✔\u001b[39m \u001b[34mdplyr  \u001b[39m 1.0.4\n",
      "\u001b[32m✔\u001b[39m \u001b[34mtidyr  \u001b[39m 1.1.2     \u001b[32m✔\u001b[39m \u001b[34mstringr\u001b[39m 1.4.0\n",
      "\u001b[32m✔\u001b[39m \u001b[34mreadr  \u001b[39m 1.4.0     \u001b[32m✔\u001b[39m \u001b[34mforcats\u001b[39m 0.5.1\n",
      "\n",
      "── \u001b[1mConflicts\u001b[22m ────────────────────────────────────────── tidyverse_conflicts() ──\n",
      "\u001b[31m✖\u001b[39m \u001b[34mdplyr\u001b[39m::\u001b[32mfilter()\u001b[39m masks \u001b[34mstats\u001b[39m::filter()\n",
      "\u001b[31m✖\u001b[39m \u001b[34mdplyr\u001b[39m::\u001b[32mlag()\u001b[39m    masks \u001b[34mstats\u001b[39m::lag()\n",
      "\n",
      "Warning message in install.packages(\"cowplot\"):\n",
      "“installation of package ‘cowplot’ had non-zero exit status”\n",
      "Updating HTML index of packages in '.Library'\n",
      "\n",
      "Making 'packages.html' ...\n",
      " done\n",
      "\n",
      "also installing the dependencies ‘R.oo’, ‘R.methodsS3’, ‘RcppCCTZ’, ‘RcppDate’, ‘R.utils’, ‘nanotime’\n",
      "\n",
      "\n",
      "Updating HTML index of packages in '.Library'\n",
      "\n",
      "Making 'packages.html' ...\n",
      " done\n",
      "\n",
      "Loading required package: data.table\n",
      "\n",
      "\n",
      "Attaching package: ‘data.table’\n",
      "\n",
      "\n",
      "The following objects are masked from ‘package:dplyr’:\n",
      "\n",
      "    between, first, last\n",
      "\n",
      "\n",
      "The following object is masked from ‘package:purrr’:\n",
      "\n",
      "    transpose\n",
      "\n",
      "\n"
     ]
    }
   ],
   "source": [
    "#installing and loading necessary libraries\n",
    "library(tidyverse)\n",
    "library(repr)\n",
    "library(digest)\n",
    "library(infer)\n",
    "install.packages(\"cowplot\")\n",
    "install.packages(\"data.table\", dependencies=TRUE)\n",
    "require(data.table)\n",
    "library(data.table)\n",
    "library(broom)"
   ]
  },
  {
   "cell_type": "markdown",
   "id": "2ccba722",
   "metadata": {},
   "source": [
    "## Part 1: Proportion of Single Family Residential Homes in East and West sides of Vancouver"
   ]
  },
  {
   "cell_type": "markdown",
   "id": "aafb30f1",
   "metadata": {},
   "source": [
    "### 1. a) Preprocessing and EDA"
   ]
  },
  {
   "cell_type": "markdown",
   "id": "4b0ff7d6",
   "metadata": {},
   "source": [
    "First, we load the dataset and set the seed to make it reproducible."
   ]
  },
  {
   "cell_type": "code",
   "execution_count": 2,
   "id": "48f6b438",
   "metadata": {},
   "outputs": [],
   "source": [
    "set.seed(9844)\n",
    "url <- \"https://opendata.vancouver.ca/explore/dataset/property-tax-report/download/?format=csv&timezone=America/Los_Angeles&lang=en&use_labels_for_header=true&csv_separator=%3B\"\n",
    "housing_data_1 = fread(url, sep=\";\")\n",
    "housing_data = setDF(housing_data_1)\n",
    "#the dataset takes a significant amount of time to load due to its size"
   ]
  },
  {
   "cell_type": "markdown",
   "id": "135e40ae",
   "metadata": {},
   "source": [
    "We will filter the dataset to look only at residential neighbourhoods in 2021."
   ]
  },
  {
   "cell_type": "code",
   "execution_count": 3,
   "id": "a0fe45bc",
   "metadata": {},
   "outputs": [
    {
     "data": {
      "text/html": [
       "<table class=\"dataframe\">\n",
       "<caption>A data.frame: 3 × 3</caption>\n",
       "<thead>\n",
       "\t<tr><th></th><th scope=col>ZONING_CLASSIFICATION</th><th scope=col>NEIGHBOURHOOD_CODE</th><th scope=col>CURRENT_LAND_VALUE</th></tr>\n",
       "\t<tr><th></th><th scope=col>&lt;chr&gt;</th><th scope=col>&lt;int&gt;</th><th scope=col>&lt;int64&gt;</th></tr>\n",
       "</thead>\n",
       "<tbody>\n",
       "\t<tr><th scope=row>1</th><td>Multiple Dwelling  </td><td>12</td><td> 390000</td></tr>\n",
       "\t<tr><th scope=row>2</th><td>Multiple Dwelling  </td><td>13</td><td> 416000</td></tr>\n",
       "\t<tr><th scope=row>3</th><td>One-Family Dwelling</td><td> 3</td><td>2126000</td></tr>\n",
       "</tbody>\n",
       "</table>\n"
      ],
      "text/latex": [
       "A data.frame: 3 × 3\n",
       "\\begin{tabular}{r|lll}\n",
       "  & ZONING\\_CLASSIFICATION & NEIGHBOURHOOD\\_CODE & CURRENT\\_LAND\\_VALUE\\\\\n",
       "  & <chr> & <int> & <int64>\\\\\n",
       "\\hline\n",
       "\t1 & Multiple Dwelling   & 12 &  390000\\\\\n",
       "\t2 & Multiple Dwelling   & 13 &  416000\\\\\n",
       "\t3 & One-Family Dwelling &  3 & 2126000\\\\\n",
       "\\end{tabular}\n"
      ],
      "text/markdown": [
       "\n",
       "A data.frame: 3 × 3\n",
       "\n",
       "| <!--/--> | ZONING_CLASSIFICATION &lt;chr&gt; | NEIGHBOURHOOD_CODE &lt;int&gt; | CURRENT_LAND_VALUE &lt;int64&gt; |\n",
       "|---|---|---|---|\n",
       "| 1 | Multiple Dwelling   | 12 |  390000 |\n",
       "| 2 | Multiple Dwelling   | 13 |  416000 |\n",
       "| 3 | One-Family Dwelling |  3 | 2126000 |\n",
       "\n"
      ],
      "text/plain": [
       "  ZONING_CLASSIFICATION NEIGHBOURHOOD_CODE CURRENT_LAND_VALUE\n",
       "1 Multiple Dwelling     12                  390000           \n",
       "2 Multiple Dwelling     13                  416000           \n",
       "3 One-Family Dwelling    3                 2126000           "
      ]
     },
     "metadata": {},
     "output_type": "display_data"
    }
   ],
   "source": [
    "land_value_data <- housing_data %>% filter(REPORT_YEAR == 2021) %>%\n",
    "    select(ZONING_CLASSIFICATION, NEIGHBOURHOOD_CODE, CURRENT_LAND_VALUE) %>%\n",
    "    filter(ZONING_CLASSIFICATION %in% c('Multiple Dwelling','One-Family Dwelling','Comprehensive Development', \"Two-Family Dwelling\"))\n",
    "land_value_data <- na.omit(land_value_data) \n",
    "head(land_value_data, 3)"
   ]
  },
  {
   "cell_type": "markdown",
   "id": "6a7b60f9",
   "metadata": {},
   "source": [
    "Table 1. Residential Neighbourhoods in 2021"
   ]
  },
  {
   "cell_type": "markdown",
   "id": "c6c6d3a0",
   "metadata": {},
   "source": [
    "Next, we will filter the dataset to separate it into the East and West sides of Vancouver. It was found through the [Vancouver Property Map](https://maps.vancouver.ca/property/), that codes 13-25 were located on the East side and codes 1-12 and 26-30 were based in Downtown and the West ends of Vancouver. Afterwards, we take a sample of 500 from each data set to get a random sample from the population."
   ]
  },
  {
   "cell_type": "code",
   "execution_count": 4,
   "id": "german-morris",
   "metadata": {},
   "outputs": [
    {
     "data": {
      "text/html": [
       "<table class=\"dataframe\">\n",
       "<caption>A data.frame: 3 × 3</caption>\n",
       "<thead>\n",
       "\t<tr><th></th><th scope=col>ZONING_CLASSIFICATION</th><th scope=col>CURRENT_LAND_VALUE</th><th scope=col>location</th></tr>\n",
       "\t<tr><th></th><th scope=col>&lt;chr&gt;</th><th scope=col>&lt;int64&gt;</th><th scope=col>&lt;chr&gt;</th></tr>\n",
       "</thead>\n",
       "<tbody>\n",
       "\t<tr><th scope=row>1</th><td>Multiple Dwelling  </td><td> 390000</td><td>west</td></tr>\n",
       "\t<tr><th scope=row>2</th><td>Multiple Dwelling  </td><td> 416000</td><td>east</td></tr>\n",
       "\t<tr><th scope=row>3</th><td>One-Family Dwelling</td><td>2126000</td><td>west</td></tr>\n",
       "</tbody>\n",
       "</table>\n"
      ],
      "text/latex": [
       "A data.frame: 3 × 3\n",
       "\\begin{tabular}{r|lll}\n",
       "  & ZONING\\_CLASSIFICATION & CURRENT\\_LAND\\_VALUE & location\\\\\n",
       "  & <chr> & <int64> & <chr>\\\\\n",
       "\\hline\n",
       "\t1 & Multiple Dwelling   &  390000 & west\\\\\n",
       "\t2 & Multiple Dwelling   &  416000 & east\\\\\n",
       "\t3 & One-Family Dwelling & 2126000 & west\\\\\n",
       "\\end{tabular}\n"
      ],
      "text/markdown": [
       "\n",
       "A data.frame: 3 × 3\n",
       "\n",
       "| <!--/--> | ZONING_CLASSIFICATION &lt;chr&gt; | CURRENT_LAND_VALUE &lt;int64&gt; | location &lt;chr&gt; |\n",
       "|---|---|---|---|\n",
       "| 1 | Multiple Dwelling   |  390000 | west |\n",
       "| 2 | Multiple Dwelling   |  416000 | east |\n",
       "| 3 | One-Family Dwelling | 2126000 | west |\n",
       "\n"
      ],
      "text/plain": [
       "  ZONING_CLASSIFICATION CURRENT_LAND_VALUE location\n",
       "1 Multiple Dwelling      390000            west    \n",
       "2 Multiple Dwelling      416000            east    \n",
       "3 One-Family Dwelling   2126000            west    "
      ]
     },
     "metadata": {},
     "output_type": "display_data"
    }
   ],
   "source": [
    "land_value_data <- land_value_data %>% \n",
    "  mutate(location = case_when(\n",
    "    between(NEIGHBOURHOOD_CODE, 1, 12) ~ \"west\",\n",
    "    between(NEIGHBOURHOOD_CODE, 13, 25) ~ \"east\",\n",
    "    between(NEIGHBOURHOOD_CODE, 26, 30) ~ \"west\",\n",
    "    TRUE ~ NA_character_)) %>%\n",
    "    select(-NEIGHBOURHOOD_CODE)\n",
    "head(land_value_data, 3)"
   ]
  },
  {
   "cell_type": "markdown",
   "id": "c3a65bbe",
   "metadata": {},
   "source": [
    "Table 2. One-Family Dwellings Separated by East and West Locations"
   ]
  },
  {
   "cell_type": "code",
   "execution_count": 5,
   "id": "e53814f2",
   "metadata": {},
   "outputs": [],
   "source": [
    "set.seed(123)\n",
    "\n",
    "west_value_2021 <- filter(land_value_data, location == \"west\")\n",
    "\n",
    "east_value_2021 <- filter(land_value_data, location == \"east\")\n",
    "\n",
    "west_2021_sample <- \n",
    "    west_value_2021 %>% \n",
    "    rep_sample_n(reps = 1, size = 500, replace = FALSE) %>% \n",
    "    ungroup()\n",
    "\n",
    "east_2021_sample <- \n",
    "    east_value_2021 %>% \n",
    "    rep_sample_n(reps = 1, size = 500, replace = FALSE) %>% \n",
    "    ungroup()"
   ]
  },
  {
   "cell_type": "markdown",
   "id": "understood-butterfly",
   "metadata": {},
   "source": [
    "After creating a sample for both the West and East sides, we can make a bar graph to quickly inspect the proportions of the sample."
   ]
  },
  {
   "cell_type": "code",
   "execution_count": 6,
   "id": "b303c76f",
   "metadata": {},
   "outputs": [
    {
     "data": {
      "image/png": "[encoded data removed]",
      "text/plain": [
       "plot without title"
      ]
     },
     "metadata": {
      "image/png": {
       "height": 480,
       "width": 900
      }
     },
     "output_type": "display_data"
    }
   ],
   "source": [
    "library(cowplot)\n",
    "\n",
    "options(repr.plot.width = 15, repr.plot.height = 8)\n",
    "\n",
    "west_plot <- ggplot(data = west_2021_sample) +\n",
    "    geom_bar(mapping = aes(fill = ZONING_CLASSIFICATION, x=\"\", y = ..count..), stat = \"count\") +\n",
    "    theme_bw()+\n",
    "labs(x=\"\", y=\"Proportion of Housing Type\", title = \"Different types of housing in the West side of Vancouver\", subtitle=\"Data from  Property tax report, Vancouver\")+\n",
    "theme(text = element_text(size = 12))\n",
    "\n",
    "east_plot <- ggplot(data = east_2021_sample) +\n",
    "    geom_bar(mapping = aes(fill = ZONING_CLASSIFICATION, x=\"\", y = ..count..), stat = \"count\")+theme_bw()+\n",
    "labs(x=\"\", y=\"Proportion of Housing Type\", title = \"Different types of housing in the East side of Vancouver\", subtitle=\"Data from  Property tax report, Vancouver\")+\n",
    "theme(text = element_text(size = 12))\n",
    "\n",
    "plot_grid(west_plot, east_plot, ncol=2, labels=\"AUTO\")"
   ]
  },
  {
   "cell_type": "markdown",
   "id": "c0166253",
   "metadata": {},
   "source": [
    "Figure A. The count of each Zoning Classification in East and West Side Vancouver respectively\n"
   ]
  },
  {
   "cell_type": "markdown",
   "id": "a98acef1",
   "metadata": {},
   "source": [
    "Upon a quick inspection, there is a clear difference in the proportion of single-family dwellings, as the East side has a much larger proportion. Now we will calculate the proportion of residential homes in each side of Vancouver zoned \"\"One-Family Dwelling\""
   ]
  },
  {
   "cell_type": "code",
   "execution_count": 7,
   "id": "enclosed-florence",
   "metadata": {},
   "outputs": [
    {
     "data": {
      "text/html": [
       "<table class=\"dataframe\">\n",
       "<caption>A tibble: 1 × 2</caption>\n",
       "<thead>\n",
       "\t<tr><th scope=col>n</th><th scope=col>proportion</th></tr>\n",
       "\t<tr><th scope=col>&lt;int&gt;</th><th scope=col>&lt;dbl&gt;</th></tr>\n",
       "</thead>\n",
       "<tbody>\n",
       "\t<tr><td>116</td><td>0.232</td></tr>\n",
       "</tbody>\n",
       "</table>\n"
      ],
      "text/latex": [
       "A tibble: 1 × 2\n",
       "\\begin{tabular}{ll}\n",
       " n & proportion\\\\\n",
       " <int> & <dbl>\\\\\n",
       "\\hline\n",
       "\t 116 & 0.232\\\\\n",
       "\\end{tabular}\n"
      ],
      "text/markdown": [
       "\n",
       "A tibble: 1 × 2\n",
       "\n",
       "| n &lt;int&gt; | proportion &lt;dbl&gt; |\n",
       "|---|---|\n",
       "| 116 | 0.232 |\n",
       "\n"
      ],
      "text/plain": [
       "  n   proportion\n",
       "1 116 0.232     "
      ]
     },
     "metadata": {},
     "output_type": "display_data"
    }
   ],
   "source": [
    "prop_west <- west_2021_sample %>% \n",
    "    filter(ZONING_CLASSIFICATION == \"One-Family Dwelling\") %>% \n",
    "    summarize(n=n()) %>%\n",
    "    mutate(proportion = n / 500)\n",
    "\n",
    "prop_w <- prop_west$proportion\n",
    "\n",
    "prop_west"
   ]
  },
  {
   "cell_type": "markdown",
   "id": "previous-manchester",
   "metadata": {},
   "source": [
    "Table 3. Proportion of One-family Dwellings in West Vancouver"
   ]
  },
  {
   "cell_type": "code",
   "execution_count": 8,
   "id": "5f8547fb",
   "metadata": {},
   "outputs": [
    {
     "data": {
      "text/html": [
       "<table class=\"dataframe\">\n",
       "<caption>A tibble: 1 × 2</caption>\n",
       "<thead>\n",
       "\t<tr><th scope=col>n</th><th scope=col>proportion</th></tr>\n",
       "\t<tr><th scope=col>&lt;int&gt;</th><th scope=col>&lt;dbl&gt;</th></tr>\n",
       "</thead>\n",
       "<tbody>\n",
       "\t<tr><td>232</td><td>0.464</td></tr>\n",
       "</tbody>\n",
       "</table>\n"
      ],
      "text/latex": [
       "A tibble: 1 × 2\n",
       "\\begin{tabular}{ll}\n",
       " n & proportion\\\\\n",
       " <int> & <dbl>\\\\\n",
       "\\hline\n",
       "\t 232 & 0.464\\\\\n",
       "\\end{tabular}\n"
      ],
      "text/markdown": [
       "\n",
       "A tibble: 1 × 2\n",
       "\n",
       "| n &lt;int&gt; | proportion &lt;dbl&gt; |\n",
       "|---|---|\n",
       "| 232 | 0.464 |\n",
       "\n"
      ],
      "text/plain": [
       "  n   proportion\n",
       "1 232 0.464     "
      ]
     },
     "metadata": {},
     "output_type": "display_data"
    }
   ],
   "source": [
    "prop_east <- east_2021_sample %>% \n",
    "    filter(ZONING_CLASSIFICATION == \"One-Family Dwelling\") %>% \n",
    "    summarize(n=n()) %>%\n",
    "    mutate(proportion = n / 500)\n",
    "\n",
    "prop_e <- prop_east$proportion\n",
    "\n",
    "prop_east"
   ]
  },
  {
   "cell_type": "markdown",
   "id": "0b2de2e9",
   "metadata": {},
   "source": [
    "Table 4. Proportion of One-Family Dwellings in East Vancouver"
   ]
  },
  {
   "cell_type": "markdown",
   "id": "92e4ebef",
   "metadata": {},
   "source": [
    "Next, the standard error and a confidence interval for each parameter is calculated."
   ]
  },
  {
   "cell_type": "code",
   "execution_count": 9,
   "id": "obvious-theme",
   "metadata": {},
   "outputs": [
    {
     "data": {
      "text/html": [
       "<table class=\"dataframe\">\n",
       "<caption>A tibble: 1 × 2</caption>\n",
       "<thead>\n",
       "\t<tr><th scope=col>lower_ci</th><th scope=col>upper_ci</th></tr>\n",
       "\t<tr><th scope=col>&lt;dbl&gt;</th><th scope=col>&lt;dbl&gt;</th></tr>\n",
       "</thead>\n",
       "<tbody>\n",
       "\t<tr><td>0.1950012</td><td>0.2689988</td></tr>\n",
       "</tbody>\n",
       "</table>\n"
      ],
      "text/latex": [
       "A tibble: 1 × 2\n",
       "\\begin{tabular}{ll}\n",
       " lower\\_ci & upper\\_ci\\\\\n",
       " <dbl> & <dbl>\\\\\n",
       "\\hline\n",
       "\t 0.1950012 & 0.2689988\\\\\n",
       "\\end{tabular}\n"
      ],
      "text/markdown": [
       "\n",
       "A tibble: 1 × 2\n",
       "\n",
       "| lower_ci &lt;dbl&gt; | upper_ci &lt;dbl&gt; |\n",
       "|---|---|\n",
       "| 0.1950012 | 0.2689988 |\n",
       "\n"
      ],
      "text/plain": [
       "  lower_ci  upper_ci \n",
       "1 0.1950012 0.2689988"
      ]
     },
     "metadata": {},
     "output_type": "display_data"
    }
   ],
   "source": [
    "se_w <-sqrt((prop_w*(1-prop_w)/500))\n",
    "\n",
    " west_ci <-\n",
    "    tibble(\n",
    "        lower_ci = qnorm(0.025, prop_w, se_w),\n",
    "        upper_ci = qnorm(0.975, prop_w, se_w)\n",
    "    )\n",
    "west_ci"
   ]
  },
  {
   "cell_type": "markdown",
   "id": "extraordinary-software",
   "metadata": {},
   "source": [
    "Table 5. Confidence Interval for the Proportion of One-family Dwellings in West Vancouver"
   ]
  },
  {
   "cell_type": "code",
   "execution_count": 10,
   "id": "9baafa3d",
   "metadata": {},
   "outputs": [
    {
     "data": {
      "text/html": [
       "<table class=\"dataframe\">\n",
       "<caption>A tibble: 1 × 2</caption>\n",
       "<thead>\n",
       "\t<tr><th scope=col>lower_ci</th><th scope=col>upper_ci</th></tr>\n",
       "\t<tr><th scope=col>&lt;dbl&gt;</th><th scope=col>&lt;dbl&gt;</th></tr>\n",
       "</thead>\n",
       "<tbody>\n",
       "\t<tr><td>0.4202876</td><td>0.5077124</td></tr>\n",
       "</tbody>\n",
       "</table>\n"
      ],
      "text/latex": [
       "A tibble: 1 × 2\n",
       "\\begin{tabular}{ll}\n",
       " lower\\_ci & upper\\_ci\\\\\n",
       " <dbl> & <dbl>\\\\\n",
       "\\hline\n",
       "\t 0.4202876 & 0.5077124\\\\\n",
       "\\end{tabular}\n"
      ],
      "text/markdown": [
       "\n",
       "A tibble: 1 × 2\n",
       "\n",
       "| lower_ci &lt;dbl&gt; | upper_ci &lt;dbl&gt; |\n",
       "|---|---|\n",
       "| 0.4202876 | 0.5077124 |\n",
       "\n"
      ],
      "text/plain": [
       "  lower_ci  upper_ci \n",
       "1 0.4202876 0.5077124"
      ]
     },
     "metadata": {},
     "output_type": "display_data"
    }
   ],
   "source": [
    "se_e <- sqrt((prop_e*(1-prop_e)/500)) #standard errror\n",
    "\n",
    "east_ci <-\n",
    "    tibble(\n",
    "        lower_ci = qnorm(0.025, prop_e, se_e),\n",
    "        upper_ci = qnorm(0.975, prop_e, se_e)\n",
    "    )\n",
    "east_ci"
   ]
  },
  {
   "cell_type": "markdown",
   "id": "20e68a79",
   "metadata": {},
   "source": [
    "Table 6. Confidence Interval for the Proportion of One-family Dwellings in East Vancouver"
   ]
  },
  {
   "cell_type": "markdown",
   "id": "ebc279a8",
   "metadata": {},
   "source": [
    "To conduct the permutation test using a trustworthy workflow, we had to do additional processing of the dataset. First the dataset was binded together to divide location into west and east, for both a sample taken and the entire dataset. "
   ]
  },
  {
   "cell_type": "code",
   "execution_count": 11,
   "id": "d365a346",
   "metadata": {},
   "outputs": [],
   "source": [
    "sample_2021 <- rbind(west_2021_sample, east_2021_sample) \n",
    "\n",
    "land_binded_data <- \n",
    "    rbind(west_value_2021 %>% mutate(location = \"west\"), east_value_2021 %>% mutate(location = \"east\")) %>%\n",
    "    select(ZONING_CLASSIFICATION, location)"
   ]
  },
  {
   "cell_type": "markdown",
   "id": "24e62b1b",
   "metadata": {},
   "source": [
    "For both the whole dataset and sample, we divided the zoning classification into one family dwellings versus non one family dwellings. Then we calculated the number of each for both west and east sides of Vancouver. "
   ]
  },
  {
   "cell_type": "code",
   "execution_count": 12,
   "id": "03fe3cae",
   "metadata": {},
   "outputs": [
    {
     "data": {
      "text/html": [
       "<table class=\"dataframe\">\n",
       "<caption>A grouped_df: 2 × 3</caption>\n",
       "<thead>\n",
       "\t<tr><th scope=col>ZONING_CLASSIFICATION</th><th scope=col>east</th><th scope=col>west</th></tr>\n",
       "\t<tr><th scope=col>&lt;chr&gt;</th><th scope=col>&lt;int&gt;</th><th scope=col>&lt;int&gt;</th></tr>\n",
       "</thead>\n",
       "<tbody>\n",
       "\t<tr><td>Non-One Family Dwelling</td><td>40106</td><td>81153</td></tr>\n",
       "\t<tr><td>One-Family Dwelling    </td><td>39258</td><td>26955</td></tr>\n",
       "</tbody>\n",
       "</table>\n"
      ],
      "text/latex": [
       "A grouped\\_df: 2 × 3\n",
       "\\begin{tabular}{lll}\n",
       " ZONING\\_CLASSIFICATION & east & west\\\\\n",
       " <chr> & <int> & <int>\\\\\n",
       "\\hline\n",
       "\t Non-One Family Dwelling & 40106 & 81153\\\\\n",
       "\t One-Family Dwelling     & 39258 & 26955\\\\\n",
       "\\end{tabular}\n"
      ],
      "text/markdown": [
       "\n",
       "A grouped_df: 2 × 3\n",
       "\n",
       "| ZONING_CLASSIFICATION &lt;chr&gt; | east &lt;int&gt; | west &lt;int&gt; |\n",
       "|---|---|---|\n",
       "| Non-One Family Dwelling | 40106 | 81153 |\n",
       "| One-Family Dwelling     | 39258 | 26955 |\n",
       "\n"
      ],
      "text/plain": [
       "  ZONING_CLASSIFICATION   east  west \n",
       "1 Non-One Family Dwelling 40106 81153\n",
       "2 One-Family Dwelling     39258 26955"
      ]
     },
     "metadata": {},
     "output_type": "display_data"
    },
    {
     "data": {
      "text/html": [
       "<table class=\"dataframe\">\n",
       "<caption>A grouped_df: 2 × 3</caption>\n",
       "<thead>\n",
       "\t<tr><th scope=col>ZONING_CLASSIFICATION</th><th scope=col>east</th><th scope=col>west</th></tr>\n",
       "\t<tr><th scope=col>&lt;chr&gt;</th><th scope=col>&lt;int&gt;</th><th scope=col>&lt;int&gt;</th></tr>\n",
       "</thead>\n",
       "<tbody>\n",
       "\t<tr><td>Non-One Family Dwelling</td><td>268</td><td>384</td></tr>\n",
       "\t<tr><td>One-Family Dwelling    </td><td>232</td><td>116</td></tr>\n",
       "</tbody>\n",
       "</table>\n"
      ],
      "text/latex": [
       "A grouped\\_df: 2 × 3\n",
       "\\begin{tabular}{lll}\n",
       " ZONING\\_CLASSIFICATION & east & west\\\\\n",
       " <chr> & <int> & <int>\\\\\n",
       "\\hline\n",
       "\t Non-One Family Dwelling & 268 & 384\\\\\n",
       "\t One-Family Dwelling     & 232 & 116\\\\\n",
       "\\end{tabular}\n"
      ],
      "text/markdown": [
       "\n",
       "A grouped_df: 2 × 3\n",
       "\n",
       "| ZONING_CLASSIFICATION &lt;chr&gt; | east &lt;int&gt; | west &lt;int&gt; |\n",
       "|---|---|---|\n",
       "| Non-One Family Dwelling | 268 | 384 |\n",
       "| One-Family Dwelling     | 232 | 116 |\n",
       "\n"
      ],
      "text/plain": [
       "  ZONING_CLASSIFICATION   east west\n",
       "1 Non-One Family Dwelling 268  384 \n",
       "2 One-Family Dwelling     232  116 "
      ]
     },
     "metadata": {},
     "output_type": "display_data"
    }
   ],
   "source": [
    "land_binded_data$ZONING_CLASSIFICATION[land_binded_data$ZONING_CLASSIFICATION %in% c('Multiple Dwelling','Comprehensive Development', \"Two-Family Dwelling\")] <- \"Non-One Family Dwelling\"\n",
    "land_binded_data %>%\n",
    "    group_by(ZONING_CLASSIFICATION, location) %>%\n",
    "    tally() %>%\n",
    "    spread(location, n)\n",
    "\n",
    "sample_2021$ZONING_CLASSIFICATION[sample_2021$ZONING_CLASSIFICATION %in% c('Multiple Dwelling','Comprehensive Development', \"Two-Family Dwelling\")] <- \"Non-One Family Dwelling\"\n",
    "sample_2021 %>%\n",
    "    group_by(ZONING_CLASSIFICATION, location) %>%\n",
    "    tally() %>%\n",
    "    spread(location, n)"
   ]
  },
  {
   "cell_type": "markdown",
   "id": "a13b0c37",
   "metadata": {},
   "source": [
    "Tables 7 and 8. Sum of One-Family Dwellings and other types of housing in the population and sample"
   ]
  },
  {
   "cell_type": "markdown",
   "id": "f4215bc9",
   "metadata": {},
   "source": [
    "### 1. b) Hypothesis Testing"
   ]
  },
  {
   "cell_type": "markdown",
   "id": "4330011b",
   "metadata": {},
   "source": [
    "Finally, to test if there is a difference in the proportion of single family homes on the east and west sides, we will conduct both a permutation test and a two-sample z-test at a 5% significance level. The 5% significance level was chosen to reduce the probability of committing a type 1 error. \n",
    "\n",
    "$H_{0}$ = The proportion of single-family homes between East and West sides of Vancouver are equal\n",
    "\n",
    "$H_{a}$ = The proportion of single-family homes between East and West sides of Vancouver are not equal\n",
    "    "
   ]
  },
  {
   "cell_type": "markdown",
   "id": "0c0b609d",
   "metadata": {},
   "source": [
    "The observed difference in proportion is calculated below. "
   ]
  },
  {
   "cell_type": "code",
   "execution_count": 13,
   "id": "84d90102",
   "metadata": {},
   "outputs": [
    {
     "data": {
      "text/html": [
       "<table class=\"dataframe\">\n",
       "<caption>A tibble: 1 × 1</caption>\n",
       "<thead>\n",
       "\t<tr><th scope=col>stat</th></tr>\n",
       "\t<tr><th scope=col>&lt;dbl&gt;</th></tr>\n",
       "</thead>\n",
       "<tbody>\n",
       "\t<tr><td>-0.2453235</td></tr>\n",
       "</tbody>\n",
       "</table>\n"
      ],
      "text/latex": [
       "A tibble: 1 × 1\n",
       "\\begin{tabular}{l}\n",
       " stat\\\\\n",
       " <dbl>\\\\\n",
       "\\hline\n",
       "\t -0.2453235\\\\\n",
       "\\end{tabular}\n"
      ],
      "text/markdown": [
       "\n",
       "A tibble: 1 × 1\n",
       "\n",
       "| stat &lt;dbl&gt; |\n",
       "|---|\n",
       "| -0.2453235 |\n",
       "\n"
      ],
      "text/plain": [
       "  stat      \n",
       "1 -0.2453235"
      ]
     },
     "metadata": {},
     "output_type": "display_data"
    }
   ],
   "source": [
    "obs_diff_in_prop <- land_binded_data %>%\n",
    "    specify(formula = ZONING_CLASSIFICATION~location, success = \"One-Family Dwelling\") %>%\n",
    "    calculate(stat = \"diff in props\", order = c(\"west\", \"east\"))\n",
    "obs_diff_in_prop"
   ]
  },
  {
   "cell_type": "markdown",
   "id": "834c3cce",
   "metadata": {},
   "source": [
    "Table 9. Observed Difference in Proportion"
   ]
  },
  {
   "cell_type": "markdown",
   "id": "d7d4df34",
   "metadata": {},
   "source": [
    "### i) Permutation Test"
   ]
  },
  {
   "cell_type": "markdown",
   "id": "a089cd4f",
   "metadata": {},
   "source": [
    "The permutation test was used because it is a non-parametric test that does not rely on the data coming from any underlying distribution. "
   ]
  },
  {
   "cell_type": "code",
   "execution_count": 14,
   "id": "32b98acc",
   "metadata": {},
   "outputs": [],
   "source": [
    "null_diff_in_props <- sample_2021 %>%\n",
    "    specify(formula = ZONING_CLASSIFICATION~location, success = \"One-Family Dwelling\") %>%\n",
    "    hypothesize(null = \"independence\") %>%\n",
    "    generate(reps = 5000, type = \"permute\") %>%\n",
    "    calculate(stat = \"diff in props\", order = c(\"west\", \"east\"))"
   ]
  },
  {
   "cell_type": "markdown",
   "id": "7368a682",
   "metadata": {},
   "source": [
    "Bootstrapping was used to calculate a 95% confidence interval for the observed test statistic below. "
   ]
  },
  {
   "cell_type": "code",
   "execution_count": 15,
   "id": "edadff0a",
   "metadata": {},
   "outputs": [],
   "source": [
    "bootstrap_diff_prop <- sample_2021 %>%\n",
    "    specify(formula = ZONING_CLASSIFICATION~location, success = \"One-Family Dwelling\") %>%\n",
    "    generate(reps = 5000, type = \"bootstrap\") %>%\n",
    "    calculate(stat = \"diff in props\", order = c(\"west\", \"east\")) "
   ]
  },
  {
   "cell_type": "code",
   "execution_count": 16,
   "id": "fc1bf647",
   "metadata": {},
   "outputs": [
    {
     "data": {
      "text/html": [
       "<table class=\"dataframe\">\n",
       "<caption>A tibble: 1 × 2</caption>\n",
       "<thead>\n",
       "\t<tr><th scope=col>lower_ci</th><th scope=col>upper_ci</th></tr>\n",
       "\t<tr><th scope=col>&lt;dbl&gt;</th><th scope=col>&lt;dbl&gt;</th></tr>\n",
       "</thead>\n",
       "<tbody>\n",
       "\t<tr><td>-0.2899135</td><td>-0.1743113</td></tr>\n",
       "</tbody>\n",
       "</table>\n"
      ],
      "text/latex": [
       "A tibble: 1 × 2\n",
       "\\begin{tabular}{ll}\n",
       " lower\\_ci & upper\\_ci\\\\\n",
       " <dbl> & <dbl>\\\\\n",
       "\\hline\n",
       "\t -0.2899135 & -0.1743113\\\\\n",
       "\\end{tabular}\n"
      ],
      "text/markdown": [
       "\n",
       "A tibble: 1 × 2\n",
       "\n",
       "| lower_ci &lt;dbl&gt; | upper_ci &lt;dbl&gt; |\n",
       "|---|---|\n",
       "| -0.2899135 | -0.1743113 |\n",
       "\n"
      ],
      "text/plain": [
       "  lower_ci   upper_ci  \n",
       "1 -0.2899135 -0.1743113"
      ]
     },
     "metadata": {},
     "output_type": "display_data"
    }
   ],
   "source": [
    "bootstrap_ci <- bootstrap_diff_prop %>%\n",
    "    get_confidence_interval(level = 0.95, type = \"percentile\")\n",
    "bootstrap_ci"
   ]
  },
  {
   "cell_type": "markdown",
   "id": "939d8c1d",
   "metadata": {},
   "source": [
    "Table 10. Bootstrapping Confidence Interval"
   ]
  },
  {
   "cell_type": "code",
   "execution_count": 17,
   "id": "d527df35",
   "metadata": {},
   "outputs": [
    {
     "data": {
      "image/png": "[encoded data removed]",
      "text/plain": [
       "plot without title"
      ]
     },
     "metadata": {
      "image/png": {
       "height": 480,
       "width": 900
      }
     },
     "output_type": "display_data"
    }
   ],
   "source": [
    "bootstrap_ci_plot <-\n",
    "    visualize(bootstrap_diff_prop) +\n",
    "    shade_confidence_interval(endpoints = bootstrap_ci)+\n",
    "    xlab(\"Difference in Propotion\") +\n",
    "    theme(text = element_text(size = 20))\n",
    "    \n",
    "bootstrap_ci_plot"
   ]
  },
  {
   "cell_type": "markdown",
   "id": "0e9829ef",
   "metadata": {},
   "source": [
    "Figure B. Simulation-Based Bootstrap Distribution with Shaded Confidence Interval"
   ]
  },
  {
   "cell_type": "markdown",
   "id": "89eb14cb",
   "metadata": {},
   "source": [
    "Thus, we can interpret the confidence interval as 95% percent of the time the true population difference in proportion will fall between [-0.2899, -0.1743]."
   ]
  },
  {
   "cell_type": "markdown",
   "id": "2812a3ad",
   "metadata": {},
   "source": [
    "Next, to visualize the difference in proportions, a simulation-based null distrubution with the observed test statisitic shown in red is produced below."
   ]
  },
  {
   "cell_type": "code",
   "execution_count": 18,
   "id": "57d92dc5",
   "metadata": {},
   "outputs": [
    {
     "name": "stderr",
     "output_type": "stream",
     "text": [
      "Warning message:\n",
      "“`visualize()` should no longer be used to plot a p-value. Arguments `obs_stat`, `obs_stat_color`, `pvalue_fill`, and `direction` are deprecated. Use `shade_p_value()` instead.”\n"
     ]
    },
    {
     "data": {
      "image/png": "[encoded data removed]",
      "text/plain": [
       "plot without title"
      ]
     },
     "metadata": {
      "image/png": {
       "height": 480,
       "width": 900
      }
     },
     "output_type": "display_data"
    }
   ],
   "source": [
    "prop_diff_plot <- null_diff_in_props %>%\n",
    "    visualize(obs_stat = obs_diff_in_prop, bins = 10, direction = \"two sided\") + \n",
    "    shade_p_value(obs_stat = obs_diff_in_prop, direction = \"both\") +\n",
    "    xlab(\"Difference in proportion\") +\n",
    "    theme(text = element_text(size = 20))\n",
    "\n",
    "prop_diff_plot"
   ]
  },
  {
   "cell_type": "markdown",
   "id": "6a38b53e",
   "metadata": {},
   "source": [
    "Figure C. Simulation-Based Null Distribution with Observed Test Statistic"
   ]
  },
  {
   "cell_type": "markdown",
   "id": "497f1cf2",
   "metadata": {},
   "source": [
    "Cleary, we can see that the test statistic fall very far outside of the distrubution tails, indicating that there is a difference in proportions between east and west sides. It also falls outside the 95% confidence interval, which is another indication that the distributions for east and west sides are not the same. To confirm this, we calculated the p-value from the generated null distribution to find the probability of observing a test statistic as extreme or more under the null hypothesis. "
   ]
  },
  {
   "cell_type": "code",
   "execution_count": 19,
   "id": "c9d15b07",
   "metadata": {},
   "outputs": [
    {
     "name": "stderr",
     "output_type": "stream",
     "text": [
      "Warning message:\n",
      "“Please be cautious in reporting a p-value of 0. This result is an approximation based on the number of `reps` chosen in the `generate()` step. See `?get_p_value()` for more information.”\n"
     ]
    },
    {
     "data": {
      "text/html": [
       "<table class=\"dataframe\">\n",
       "<caption>A tibble: 1 × 1</caption>\n",
       "<thead>\n",
       "\t<tr><th scope=col>p_value</th></tr>\n",
       "\t<tr><th scope=col>&lt;dbl&gt;</th></tr>\n",
       "</thead>\n",
       "<tbody>\n",
       "\t<tr><td>0</td></tr>\n",
       "</tbody>\n",
       "</table>\n"
      ],
      "text/latex": [
       "A tibble: 1 × 1\n",
       "\\begin{tabular}{l}\n",
       " p\\_value\\\\\n",
       " <dbl>\\\\\n",
       "\\hline\n",
       "\t 0\\\\\n",
       "\\end{tabular}\n"
      ],
      "text/markdown": [
       "\n",
       "A tibble: 1 × 1\n",
       "\n",
       "| p_value &lt;dbl&gt; |\n",
       "|---|\n",
       "| 0 |\n",
       "\n"
      ],
      "text/plain": [
       "  p_value\n",
       "1 0      "
      ]
     },
     "metadata": {},
     "output_type": "display_data"
    }
   ],
   "source": [
    "p_value <- null_diff_in_props %>%\n",
    "    get_p_value(obs_stat = obs_diff_in_prop, direction = \"both\")\n",
    "p_value"
   ]
  },
  {
   "cell_type": "markdown",
   "id": "04e4d220",
   "metadata": {},
   "source": [
    "Table 11. P-value"
   ]
  },
  {
   "cell_type": "markdown",
   "id": "8bca4d60",
   "metadata": {},
   "source": [
    "We reject the null hypothesis at the significance level $alpha$ = 0.05 since the p-value is less than alpha. Thus, based on the permutation test we conclude that the proportions of single family homes between the East and West sides are not equal."
   ]
  },
  {
   "cell_type": "markdown",
   "id": "a0be1c03",
   "metadata": {},
   "source": [
    "### ii) Z-Test"
   ]
  },
  {
   "cell_type": "markdown",
   "id": "f96b3dd3",
   "metadata": {},
   "source": [
    "Next we will conduct a z-test for the same hypothesis to compare parametric and non-parametric methods. The non-parametric permutation test does not rely on a underlying distrubution, while the z-test assumes the distribution is normal under the null hypothesis. \n",
    "\n",
    "We can use z-test despite not knowing if the population is normally distributed, because according to the central limit theorem, the sample size is large enough to approximate the normality condition of the test. "
   ]
  },
  {
   "cell_type": "code",
   "execution_count": 20,
   "id": "2ddf9786",
   "metadata": {},
   "outputs": [
    {
     "data": {
      "text/html": [
       "<table class=\"dataframe\">\n",
       "<caption>A matrix: 9 × 1 of type chr</caption>\n",
       "<tbody>\n",
       "\t<tr><th scope=row>estimate1</th><td>0.464                                                                  </td></tr>\n",
       "\t<tr><th scope=row>estimate2</th><td>0.232                                                                  </td></tr>\n",
       "\t<tr><th scope=row>statistic</th><td>59.3047                                                                </td></tr>\n",
       "\t<tr><th scope=row>p.value</th><td>1.350534e-14                                                           </td></tr>\n",
       "\t<tr><th scope=row>parameter</th><td>1                                                                      </td></tr>\n",
       "\t<tr><th scope=row>conf.low</th><td>0.1747315                                                              </td></tr>\n",
       "\t<tr><th scope=row>conf.high</th><td>0.2892685                                                              </td></tr>\n",
       "\t<tr><th scope=row>method</th><td>2-sample test for equality of proportions without continuity correction</td></tr>\n",
       "\t<tr><th scope=row>alternative</th><td>two.sided                                                              </td></tr>\n",
       "</tbody>\n",
       "</table>\n"
      ],
      "text/latex": [
       "A matrix: 9 × 1 of type chr\n",
       "\\begin{tabular}{r|l}\n",
       "\testimate1 & 0.464                                                                  \\\\\n",
       "\testimate2 & 0.232                                                                  \\\\\n",
       "\tstatistic & 59.3047                                                                \\\\\n",
       "\tp.value & 1.350534e-14                                                           \\\\\n",
       "\tparameter & 1                                                                      \\\\\n",
       "\tconf.low & 0.1747315                                                              \\\\\n",
       "\tconf.high & 0.2892685                                                              \\\\\n",
       "\tmethod & 2-sample test for equality of proportions without continuity correction\\\\\n",
       "\talternative & two.sided                                                              \\\\\n",
       "\\end{tabular}\n"
      ],
      "text/markdown": [
       "\n",
       "A matrix: 9 × 1 of type chr\n",
       "\n",
       "| estimate1 | 0.464                                                                   |\n",
       "| estimate2 | 0.232                                                                   |\n",
       "| statistic | 59.3047                                                                 |\n",
       "| p.value | 1.350534e-14                                                            |\n",
       "| parameter | 1                                                                       |\n",
       "| conf.low | 0.1747315                                                               |\n",
       "| conf.high | 0.2892685                                                               |\n",
       "| method | 2-sample test for equality of proportions without continuity correction |\n",
       "| alternative | two.sided                                                               |\n",
       "\n"
      ],
      "text/plain": [
       "            [,1]                                                                   \n",
       "estimate1   0.464                                                                  \n",
       "estimate2   0.232                                                                  \n",
       "statistic   59.3047                                                                \n",
       "p.value     1.350534e-14                                                           \n",
       "parameter   1                                                                      \n",
       "conf.low    0.1747315                                                              \n",
       "conf.high   0.2892685                                                              \n",
       "method      2-sample test for equality of proportions without continuity correction\n",
       "alternative two.sided                                                              "
      ]
     },
     "metadata": {},
     "output_type": "display_data"
    }
   ],
   "source": [
    "nE <- prop_east$n\n",
    "\n",
    "nW <- prop_west$n\n",
    "\n",
    "ztest <- prop.test(x=c(nE, nW), n=c(500, 500), correct=FALSE)\n",
    "df <- tidy(ztest)\n",
    "\n",
    "t(df)"
   ]
  },
  {
   "cell_type": "markdown",
   "id": "832f8913",
   "metadata": {},
   "source": [
    "Table 12. Z-test Results\n"
   ]
  },
  {
   "cell_type": "markdown",
   "id": "46474ac9",
   "metadata": {},
   "source": [
    "Similarily to the permutation test, we reject the null hypothesis at the significance level $alpha$ = 0.05 since the p-value is less than alpha. Thus, based on the permutation test we conclude that the proportions of single family homes between the East and West sides are not equal. The confidence interval for difference in proportions between the two neighbourhoods is [0.208, 0.324]."
   ]
  },
  {
   "cell_type": "markdown",
   "id": "cb5c12cf",
   "metadata": {},
   "source": [
    "### Comparing the Two Methods:\n",
    "\n",
    "In comparison, the permutation test and z-test gave very similar p-values, both close to 0. Using both non-parametric and parametric methods gives more assurance that the results are trustworthy. Overall, both methods will give similar results as long as the assumptions of the test are not broken. Here we had independent observations and a very large sample size of 500, which allowed us to rely on the central limit theorem that the estimator is asymptotically normal. In reality, it can sometimes be hard to determine whether a sample meets the conditions such as independence from a dataset collected by others, so using both methods is more reliable. However, if the asymptotic approximation is accurate, oftentimes the parametric assumptions of the Z-test give more power than the permutation test. In our case, either method will provide an accurate result. \n",
    "\n",
    "In addition, we used bootstrapping and asymptotics to calculate confidence intervals for the difference in proportion. Both methods gave almost identical results, indicating that the analysis is reliable. The main advantage of bootstrapping is that it doesn't rely on the assumption that the population is normally distributed. However, in order for bootstrapping to work well, the sample needs to be representative of the population. Since we had access to the entire population, the random sample was representative. In comparison, the assumptions of asymptotic normality need to be met in order for the Z-test confidence interval to be accurate. Since these assumptions were met, this method also performed very well. Overall, in our case both methods produced very trustworthy results so either could be used. "
   ]
  },
  {
   "cell_type": "markdown",
   "id": "535f6ff6",
   "metadata": {},
   "source": [
    "## Part 2: Exploring Median Land Value for Residential Homes in the East  and West sides of Vancouver"
   ]
  },
  {
   "cell_type": "markdown",
   "id": "threatened-syndication",
   "metadata": {},
   "source": [
    "### 2. a) Preprocessing and EDA for Median Land Value"
   ]
  },
  {
   "cell_type": "markdown",
   "id": "015e3bfc",
   "metadata": {},
   "source": [
    "In part 1. a): we already took a sample of 500 for each side, so we can reuse the sample from the proportion of single family homes and use it for the sample of median land values."
   ]
  },
  {
   "cell_type": "code",
   "execution_count": 21,
   "id": "03a79e0a",
   "metadata": {},
   "outputs": [],
   "source": [
    "set.seed(123)\n",
    "west_2021_sample <- \n",
    "    west_2021_sample %>% \n",
    "    mutate(CURRENT_LAND_VALUE = as.integer(CURRENT_LAND_VALUE))\n",
    "\n",
    "east_2021_sample <- east_2021_sample %>%\n",
    "    mutate(CURRENT_LAND_VALUE = as.integer(CURRENT_LAND_VALUE))"
   ]
  },
  {
   "cell_type": "markdown",
   "id": "7e09e9a8",
   "metadata": {},
   "source": [
    "Next we take 5000 bootstrap samples of 500 from each random sample, and calculate the median of each replicate."
   ]
  },
  {
   "cell_type": "code",
   "execution_count": 22,
   "id": "e5bd71fb",
   "metadata": {},
   "outputs": [],
   "source": [
    "set.seed(123)\n",
    "\n",
    "west_2021_bootstrapped <- west_2021_sample %>% \n",
    "    rep_sample_n(reps = 5000, size = 500, replace = TRUE) %>% \n",
    "    group_by(replicate) %>% \n",
    "    summarize(bootstrap_median = median(CURRENT_LAND_VALUE, ))\n",
    "\n",
    "east_2021_bootstrapped <- east_2021_sample %>% \n",
    "    rep_sample_n(reps = 5000, size = 500, replace = TRUE) %>% \n",
    "    group_by(replicate) %>% \n",
    "    summarize(bootstrap_median = median(CURRENT_LAND_VALUE, ))"
   ]
  },
  {
   "cell_type": "markdown",
   "id": "fc1e6a59",
   "metadata": {},
   "source": [
    "The sample medians for the west side and east side are calculated below."
   ]
  },
  {
   "cell_type": "code",
   "execution_count": 23,
   "id": "9a5f2655",
   "metadata": {},
   "outputs": [
    {
     "data": {
      "text/html": [
       "794000"
      ],
      "text/latex": [
       "794000"
      ],
      "text/markdown": [
       "794000"
      ],
      "text/plain": [
       "[1] 794000"
      ]
     },
     "metadata": {},
     "output_type": "display_data"
    }
   ],
   "source": [
    "west_param <- median(west_2021_bootstrapped$bootstrap_median)\n",
    "west_param"
   ]
  },
  {
   "cell_type": "code",
   "execution_count": 24,
   "id": "46bd1c59",
   "metadata": {},
   "outputs": [
    {
     "data": {
      "text/html": [
       "1199000"
      ],
      "text/latex": [
       "1199000"
      ],
      "text/markdown": [
       "1199000"
      ],
      "text/plain": [
       "[1] 1199000"
      ]
     },
     "metadata": {},
     "output_type": "display_data"
    }
   ],
   "source": [
    "east_param <- median(east_2021_bootstrapped$bootstrap_median)\n",
    "east_param"
   ]
  },
  {
   "cell_type": "markdown",
   "id": "b6bc93a9",
   "metadata": {},
   "source": [
    "Then, a confidence interval is calculated for each sample median."
   ]
  },
  {
   "cell_type": "code",
   "execution_count": 25,
   "id": "52660505",
   "metadata": {},
   "outputs": [
    {
     "data": {
      "text/html": [
       "<table class=\"dataframe\">\n",
       "<caption>A tibble: 1 × 2</caption>\n",
       "<thead>\n",
       "\t<tr><th scope=col>ci_lower</th><th scope=col>ci_upper</th></tr>\n",
       "\t<tr><th scope=col>&lt;dbl&gt;</th><th scope=col>&lt;dbl&gt;</th></tr>\n",
       "</thead>\n",
       "<tbody>\n",
       "\t<tr><td>704500</td><td>920000</td></tr>\n",
       "</tbody>\n",
       "</table>\n"
      ],
      "text/latex": [
       "A tibble: 1 × 2\n",
       "\\begin{tabular}{ll}\n",
       " ci\\_lower & ci\\_upper\\\\\n",
       " <dbl> & <dbl>\\\\\n",
       "\\hline\n",
       "\t 704500 & 920000\\\\\n",
       "\\end{tabular}\n"
      ],
      "text/markdown": [
       "\n",
       "A tibble: 1 × 2\n",
       "\n",
       "| ci_lower &lt;dbl&gt; | ci_upper &lt;dbl&gt; |\n",
       "|---|---|\n",
       "| 704500 | 920000 |\n",
       "\n"
      ],
      "text/plain": [
       "  ci_lower ci_upper\n",
       "1 704500   920000  "
      ]
     },
     "metadata": {},
     "output_type": "display_data"
    },
    {
     "data": {
      "text/html": [
       "<table class=\"dataframe\">\n",
       "<caption>A tibble: 1 × 2</caption>\n",
       "<thead>\n",
       "\t<tr><th scope=col>ci_lower</th><th scope=col>ci_upper</th></tr>\n",
       "\t<tr><th scope=col>&lt;dbl&gt;</th><th scope=col>&lt;dbl&gt;</th></tr>\n",
       "</thead>\n",
       "<tbody>\n",
       "\t<tr><td>1180000</td><td>1225000</td></tr>\n",
       "</tbody>\n",
       "</table>\n"
      ],
      "text/latex": [
       "A tibble: 1 × 2\n",
       "\\begin{tabular}{ll}\n",
       " ci\\_lower & ci\\_upper\\\\\n",
       " <dbl> & <dbl>\\\\\n",
       "\\hline\n",
       "\t 1180000 & 1225000\\\\\n",
       "\\end{tabular}\n"
      ],
      "text/markdown": [
       "\n",
       "A tibble: 1 × 2\n",
       "\n",
       "| ci_lower &lt;dbl&gt; | ci_upper &lt;dbl&gt; |\n",
       "|---|---|\n",
       "| 1180000 | 1225000 |\n",
       "\n"
      ],
      "text/plain": [
       "  ci_lower ci_upper\n",
       "1 1180000  1225000 "
      ]
     },
     "metadata": {},
     "output_type": "display_data"
    }
   ],
   "source": [
    "west_2021_ci <- west_2021_bootstrapped %>% \n",
    "    summarize(ci_lower = quantile(bootstrap_median, 0.05),\n",
    "              ci_upper = quantile(bootstrap_median, 0.95))\n",
    "west_2021_ci\n",
    "\n",
    "east_2021_ci <- east_2021_bootstrapped %>% \n",
    "    summarize(ci_lower = quantile(bootstrap_median, 0.05),\n",
    "              ci_upper = quantile(bootstrap_median, 0.95))\n",
    "east_2021_ci"
   ]
  },
  {
   "cell_type": "markdown",
   "id": "115fc5de",
   "metadata": {},
   "source": [
    "Tables 13 and 14. West and East Bootstap Confidence Intervals"
   ]
  },
  {
   "cell_type": "markdown",
   "id": "3932ce5c",
   "metadata": {},
   "source": [
    "Lastly, the bootstrap distributions are plotted below. This allows us to get a general idea of the distribution of median land values."
   ]
  },
  {
   "cell_type": "code",
   "execution_count": 26,
   "id": "fa36edf3",
   "metadata": {},
   "outputs": [
    {
     "data": {
      "image/png": "[encoded data removed]",
      "text/plain": [
       "plot without title"
      ]
     },
     "metadata": {
      "image/png": {
       "height": 480,
       "width": 900
      }
     },
     "output_type": "display_data"
    }
   ],
   "source": [
    "options(repr.plot.width=15, repr.plot.height=8)\n",
    "options(scipen=999)\n",
    "\n",
    "west_2021_plot <- west_2021_bootstrapped %>% \n",
    "    ggplot(aes(x = bootstrap_median)) +\n",
    "    geom_histogram(bins = 30, fill = \"#480087\", colour = \"black\") + \n",
    "    geom_vline(xintercept = west_2021_ci[[1]], colour = \"#2fed2f\", size = 1.5) +\n",
    "    geom_vline(xintercept = west_2021_ci[[2]], colour = \"#2fed2f\", size = 1.5)+\n",
    "theme_bw()+\n",
    "labs(x=\"Values of the Boostrap Median\", title = \"Bootstrap Distribution for the West Side\")\n",
    "\n",
    "east_2021_plot <- east_2021_bootstrapped %>% \n",
    "    ggplot(aes(x = bootstrap_median)) +\n",
    "    geom_histogram(bins = 30, fill = \"#480087\", colour = \"black\") + \n",
    "    geom_vline(xintercept = east_2021_ci[[1]], colour = \"#2fed2f\", size = 1.5) +\n",
    "    geom_vline(xintercept = east_2021_ci[[2]], colour = \"#2fed2f\", size = 1.5)+\n",
    "theme_bw()+\n",
    "labs(x=\"Values of the Boostrap Median\", title = \"Bootstrap Distribution for the East Side\")\n",
    "\n",
    "plot_grid(west_2021_plot, east_2021_plot)"
   ]
  },
  {
   "cell_type": "markdown",
   "id": "dde072e9",
   "metadata": {},
   "source": [
    "Figure D. Bootstrap Distributions for East and West sides"
   ]
  },
  {
   "cell_type": "markdown",
   "id": "0c18a83f",
   "metadata": {},
   "source": [
    "Upon quick inspection on the bootstrap distributions for the East and West sides, the East side has a noticeably larger median over the course of multiple repetitions.\n",
    "\n",
    "### b) Hypothesis Testing for Median Land Value\n",
    "\n",
    "To test if there is a difference in the median land values on the east and west sides, we will perform a permutation test and use a bootstrap confidence interval to support or contradict our test. A 5% significance level will be used again for consistency, and for the purpose that it may reduce the probability of committing a type 1 error.\n",
    "\n",
    "$H_{0}$ = The median land values between East and West sides of Vancouver are equal\n",
    "\n",
    "$H_{A}$ = The median land values between East and West sides of Vancouver are not equal\n",
    "\n",
    "#### i) Permutation Test for Median Land Value\n",
    "\n",
    "To start off performing a permutation test, we first calculate the observed test value from the data."
   ]
  },
  {
   "cell_type": "code",
   "execution_count": 27,
   "id": "abandoned-attachment",
   "metadata": {},
   "outputs": [
    {
     "data": {
      "text/html": [
       "<table class=\"dataframe\">\n",
       "<caption>A tibble: 1 × 1</caption>\n",
       "<thead>\n",
       "\t<tr><th scope=col>stat</th></tr>\n",
       "\t<tr><th scope=col>&lt;int64&gt;</th></tr>\n",
       "</thead>\n",
       "<tbody>\n",
       "\t<tr><td>-435000</td></tr>\n",
       "</tbody>\n",
       "</table>\n"
      ],
      "text/latex": [
       "A tibble: 1 × 1\n",
       "\\begin{tabular}{l}\n",
       " stat\\\\\n",
       " <int64>\\\\\n",
       "\\hline\n",
       "\t -435000\\\\\n",
       "\\end{tabular}\n"
      ],
      "text/markdown": [
       "\n",
       "A tibble: 1 × 1\n",
       "\n",
       "| stat &lt;int64&gt; |\n",
       "|---|\n",
       "| -435000 |\n",
       "\n"
      ],
      "text/plain": [
       "  stat   \n",
       "1 -435000"
      ]
     },
     "metadata": {},
     "output_type": "display_data"
    }
   ],
   "source": [
    "obs_diff_in_medians <- \n",
    "    land_value_data %>% \n",
    "    specify(formula = CURRENT_LAND_VALUE ~ location) %>%\n",
    "    calculate(stat = \"diff in medians\", order = c(\"west\", \"east\"))  \n",
    "obs_diff_in_medians"
   ]
  },
  {
   "cell_type": "markdown",
   "id": "eb0eaa24",
   "metadata": {},
   "source": [
    "Table 15. Observed Difference in Medians"
   ]
  },
  {
   "cell_type": "markdown",
   "id": "6ae8e654",
   "metadata": {},
   "source": [
    "We then combine our west and east samples and select the values relating to the location and land value."
   ]
  },
  {
   "cell_type": "code",
   "execution_count": 28,
   "id": "acute-bermuda",
   "metadata": {},
   "outputs": [],
   "source": [
    "# combines west and east sample into one\n",
    "sample_2021_land <- rbind(west_2021_sample, east_2021_sample)"
   ]
  },
  {
   "cell_type": "markdown",
   "id": "d2ca7620",
   "metadata": {},
   "source": [
    "Like with the proportion of single family homes, we can use a permutation test because it's a non-parametric test that doesn't rely on data from any underlying distribution.\n",
    "\n"
   ]
  },
  {
   "cell_type": "code",
   "execution_count": 29,
   "id": "framed-absorption",
   "metadata": {},
   "outputs": [],
   "source": [
    "set.seed(123)\n",
    "null_diff_in_medians <- \n",
    "    sample_2021_land %>%\n",
    "    specify(formula = CURRENT_LAND_VALUE ~ location) %>%\n",
    "    hypothesize(null = \"independence\") %>% \n",
    "    generate(reps = 5000, type = \"permute\")  %>%\n",
    "    calculate(stat = \"diff in medians\", order = c(\"west\", \"east\"))"
   ]
  },
  {
   "cell_type": "markdown",
   "id": "2e5116f7",
   "metadata": {},
   "source": [
    "A simulation-based null distribution is then produced with the observed test statistic to get a visualization of the difference in medians."
   ]
  },
  {
   "cell_type": "code",
   "execution_count": 30,
   "id": "sealed-hardwood",
   "metadata": {},
   "outputs": [
    {
     "data": {
      "image/png": "[encoded data removed]",
      "text/plain": [
       "plot without title"
      ]
     },
     "metadata": {
      "image/png": {
       "height": 480,
       "width": 900
      }
     },
     "output_type": "display_data"
    }
   ],
   "source": [
    "diff_in_medians_plot <-\n",
    "    visualize(null_diff_in_medians, bins = 10) + \n",
    "    shade_p_value(obs_stat = as.integer(obs_diff_in_medians$stat), direction = \"both\") +\n",
    "    xlab(\"Difference in median\") +\n",
    "    theme(text = element_text(size = 20))\n",
    "\n",
    "diff_in_medians_plot"
   ]
  },
  {
   "cell_type": "markdown",
   "id": "popular-thinking",
   "metadata": {},
   "source": [
    "Figure E.  Simulation-Based Null Distribution for the Difference in Median Land Value"
   ]
  },
  {
   "cell_type": "markdown",
   "id": "competent-success",
   "metadata": {},
   "source": [
    "\n",
    "\n",
    "Just like with the null distribution of single family homes, there is a clear difference between the observed statistic compared to the null distribution of median land values, as it is to the left of every recorded difference by a large margin. We then confirm this by calculating the p-value which is generated from the null distribution generated earlier to get the probability of the observed test statistic under the null hypothesis."
   ]
  },
  {
   "cell_type": "markdown",
   "id": "massive-excitement",
   "metadata": {},
   "source": [
    "Next, the p-value was calculated below."
   ]
  },
  {
   "cell_type": "code",
   "execution_count": 31,
   "id": "f70a91f5",
   "metadata": {},
   "outputs": [
    {
     "name": "stderr",
     "output_type": "stream",
     "text": [
      "Warning message:\n",
      "“Please be cautious in reporting a p-value of 0. This result is an approximation based on the number of `reps` chosen in the `generate()` step. See `?get_p_value()` for more information.”\n"
     ]
    },
    {
     "data": {
      "text/html": [
       "<table class=\"dataframe\">\n",
       "<caption>A tibble: 1 × 1</caption>\n",
       "<thead>\n",
       "\t<tr><th scope=col>p_value</th></tr>\n",
       "\t<tr><th scope=col>&lt;dbl&gt;</th></tr>\n",
       "</thead>\n",
       "<tbody>\n",
       "\t<tr><td>0</td></tr>\n",
       "</tbody>\n",
       "</table>\n"
      ],
      "text/latex": [
       "A tibble: 1 × 1\n",
       "\\begin{tabular}{l}\n",
       " p\\_value\\\\\n",
       " <dbl>\\\\\n",
       "\\hline\n",
       "\t 0\\\\\n",
       "\\end{tabular}\n"
      ],
      "text/markdown": [
       "\n",
       "A tibble: 1 × 1\n",
       "\n",
       "| p_value &lt;dbl&gt; |\n",
       "|---|\n",
       "| 0 |\n",
       "\n"
      ],
      "text/plain": [
       "  p_value\n",
       "1 0      "
      ]
     },
     "metadata": {},
     "output_type": "display_data"
    }
   ],
   "source": [
    "# p value via bootstrapping\n",
    "null_diff_in_medians %>% \n",
    "    get_p_value(obs_stat =  obs_diff_in_medians, direction = \"both\")"
   ]
  },
  {
   "cell_type": "markdown",
   "id": "institutional-garage",
   "metadata": {},
   "source": [
    "Table 16. P-value for the Difference in Median Land Value"
   ]
  },
  {
   "cell_type": "markdown",
   "id": "e0d209e8",
   "metadata": {},
   "source": [
    "The method leaves us with a p-value of 0, meaning that there is no data in the sample that meets the requirements. This suggests that a type 1 error is impossible, which would be very unlikely. As we performed 5000 repetitions, we can assume that the p-value is less than 0.0002. Given a p=value < 0.0002, we can deny the null hypothesis at a 5% significance level and conclude that the median land values between West and East Vancouver are not equal.\n"
   ]
  },
  {
   "cell_type": "markdown",
   "id": "97546feb",
   "metadata": {},
   "source": [
    "#### ii) Bootstrap Confidence Interval for Median Land Values\n",
    "\n",
    "Next, we can create a bootstrap distribution to calculate a confidence interval for the differences in median land values. This will allow us to get another perspective on the permutation test by seeing how bootstrapping the sample would differ from the permutation test. With the amount of data we have, there is enough room for 5000 bootstrap repetitions."
   ]
  },
  {
   "cell_type": "code",
   "execution_count": 32,
   "id": "fabulous-county",
   "metadata": {},
   "outputs": [],
   "source": [
    "set.seed(123)\n",
    "diff_in_medians_bootstrap_dist <- \n",
    "    sample_2021_land %>% \n",
    "    specify(formula = CURRENT_LAND_VALUE ~ location) %>%\n",
    "    generate(reps = 5000, size = 500, type = \"bootstrap\")  %>%\n",
    "    calculate(stat = \"diff in medians\", order = c(\"west\", \"east\"))\n"
   ]
  },
  {
   "cell_type": "markdown",
   "id": "68dc8734",
   "metadata": {},
   "source": [
    "We can then calculate the 95% confidence interval from the bootstrap distribution data.\n"
   ]
  },
  {
   "cell_type": "code",
   "execution_count": 33,
   "id": "transsexual-plumbing",
   "metadata": {},
   "outputs": [
    {
     "data": {
      "text/html": [
       "<table class=\"dataframe\">\n",
       "<caption>A tibble: 1 × 2</caption>\n",
       "<thead>\n",
       "\t<tr><th scope=col>lower_ci</th><th scope=col>upper_ci</th></tr>\n",
       "\t<tr><th scope=col>&lt;dbl&gt;</th><th scope=col>&lt;dbl&gt;</th></tr>\n",
       "</thead>\n",
       "<tbody>\n",
       "\t<tr><td>-518025</td><td>-261000</td></tr>\n",
       "</tbody>\n",
       "</table>\n"
      ],
      "text/latex": [
       "A tibble: 1 × 2\n",
       "\\begin{tabular}{ll}\n",
       " lower\\_ci & upper\\_ci\\\\\n",
       " <dbl> & <dbl>\\\\\n",
       "\\hline\n",
       "\t -518025 & -261000\\\\\n",
       "\\end{tabular}\n"
      ],
      "text/markdown": [
       "\n",
       "A tibble: 1 × 2\n",
       "\n",
       "| lower_ci &lt;dbl&gt; | upper_ci &lt;dbl&gt; |\n",
       "|---|---|\n",
       "| -518025 | -261000 |\n",
       "\n"
      ],
      "text/plain": [
       "  lower_ci upper_ci\n",
       "1 -518025  -261000 "
      ]
     },
     "metadata": {},
     "output_type": "display_data"
    }
   ],
   "source": [
    "diff_in_medians_ci <-\n",
    "    diff_in_medians_bootstrap_dist %>% \n",
    "    get_confidence_interval(level = 0.95, type = \"percentile\")\n",
    "diff_in_medians_ci"
   ]
  },
  {
   "cell_type": "markdown",
   "id": "technological-profile",
   "metadata": {},
   "source": [
    "Table 17. 95% Confidence Interval"
   ]
  },
  {
   "cell_type": "markdown",
   "id": "a9ec47fb",
   "metadata": {},
   "source": [
    "With the calculated confidence interval we can interpret by claiming that the difference in medians of a sample lies between [-518025, -261000] 95% of the time. We can then visualize the bootstrap distribution of the difference in medians with the previously calculated confidence interval.\n"
   ]
  },
  {
   "cell_type": "code",
   "execution_count": 34,
   "id": "settled-kingdom",
   "metadata": {
    "scrolled": true
   },
   "outputs": [
    {
     "data": {
      "image/png": "[encoded data removed]",
      "text/plain": [
       "plot without title"
      ]
     },
     "metadata": {
      "image/png": {
       "height": 480,
       "width": 900
      }
     },
     "output_type": "display_data"
    }
   ],
   "source": [
    "diff_in_medians_ci_plot <-\n",
    "    visualize(diff_in_medians_bootstrap_dist) + \n",
    "    shade_confidence_interval(endpoints = diff_in_medians_ci) + \n",
    "    theme(text = element_text(size = 20)) + \n",
    "    xlab(\"Difference in Medians\")\n",
    "diff_in_medians_ci_plot"
   ]
  },
  {
   "cell_type": "markdown",
   "id": "af107ec6",
   "metadata": {},
   "source": [
    "Figure F. Simulation-Based Bootstrap Distribtution with Shaded Confidence Interval "
   ]
  },
  {
   "cell_type": "markdown",
   "id": "ba509d86",
   "metadata": {},
   "source": [
    "In this plot, we can see that none of the samples happened to reach a difference of medians of 0 between west and east.\n",
    "\n",
    "### Comparing the Two Methods:\n",
    "\n",
    "When comparing the two methods, both the confidence interval and the permutation test gave extremely similar results, meaning that the analysis is reliable. The permutation test gave a p-value close to 0 while the confidence interval produced from bootstrapping only ranges in the negatives, which means that most of the bootstrap median differences weren't close to being equal. Neither method produced any replicate where the median land values were equal, and the East side always had a higher median than the West side in the repetitions produced."
   ]
  },
  {
   "cell_type": "markdown",
   "id": "c1715333-a8d6-4b02-970c-bf855efe9889",
   "metadata": {},
   "source": [
    "## Discussion"
   ]
  },
  {
   "cell_type": "markdown",
   "id": "070fac6d-d1c7-4d19-ae62-f6aaceb7ae8a",
   "metadata": {},
   "source": [
    "#### 1. Summarize what you found, and the implications/impact of your findings.\n",
    "\n",
    "We found that the difference in median land values of residential properties in West and East Vancouver was “-435000,” where we are 95% confident it lies between -518025, and -261000. Moreover, we found that the difference in proportions of single-family dwelling in West and East Vancouver is -0.24 with 95% confidence it lies between -0.17 and -0.29.\n",
    "\n",
    "Based on the results, I think this sheds light on the role zoning regulations play in a housing crisis. Understanding this role should aid in our understanding and ability to avert further housing crises.\n",
    "\n",
    "#### 2. If relevant, discuss whether your results were what you expected to find.\n",
    "\n",
    "Only some of our results were consistent with what we expected to find based on our preliminary analysis and existing research. We were expecting to find that the area with a higher land median value would also have a higher proportion of single family housing. This result was true as East Vancouver had a higher land median value and also a higher proportion of single-family dwellings. \n",
    "We expected that the proportion of single family housing in West Vancouver to be significantly higher than in East Vancouver. However, that was not true because we found that West Vancouver had a lower proportion of single-family housing specifically due to the downtown area which is populated with multi-family dwellings. Additionally, we expected to find a higher median-land value for the western area of Vancouver, but our findings resulted in the opposite. While our prediction on the trend between single-family housing and median land value was correct, we did not predict that East Vancouver would have a larger proportion of single-family housing and a higher median land value.\n",
    "\n",
    "#### 3. Discuss future questions/research this study could lead to.\n",
    "a) What factors other than zoning regulation lead to such a dramatic increase in housing prices? In addition, what are some potential solutions to avert the housing crisis present? \n",
    "\n",
    "b) How do the trend of land values contrast between residential homes and non-residential areas over the years?\n",
    "\n",
    "c) Over a span of time, how do the housing prices and proportion of single-family homes to non-single-family homes compare – would it be likely to observe an increase or decrease in these values?\n",
    "\n",
    "d) To what extent could we expect the median land values in between certain neighborhoods, within the East and West sides of Vancouver, to compare?"
   ]
  },
  {
   "cell_type": "markdown",
   "id": "385a03d1-a165-4206-8229-de6af57b24ef",
   "metadata": {},
   "source": [
    "## References "
   ]
  },
  {
   "cell_type": "markdown",
   "id": "1cae8538-462a-4d1b-9154-9ce257bd4746",
   "metadata": {},
   "source": [
    "1. Glaeser, E. L., & Gyourko, J. (2002). The Impact of Zoning on Housing Affordability (SSRN Scholarly Paper ID 303557). Social Science Research Network. https://papers.ssrn.com/abstract=303557\n",
    "2. Pablo, C. (2021). Rising Vancouver home prices narrow “once great divide between East and West into thin, fine line”. The Georgia Straight. \n",
    "https://www.straight.com/news/rising-vancouver-home-prices-narrow-once-great-divide-between-east-and-west-into-thin-fine-line\n",
    "3. Kergin, B. (2021, June 7). The East Side-West Side Split in Vancouver Real Estate is Changing (MAP). Vancouver is Awesome. \n",
    "https://www.vancouverisawesome.com/real-estate/the-east-side-west-side-split-in-vancouver-real-estate-is-changing-map-3852383 \n",
    "4. Property tax report. City of Vancouver, BC Assessment. https://opendata.vancouver.ca/explore/dataset/property-tax-report/\n",
    "5. Schuetz, J. (2020, January 7). To improve housing affordability, we need better alignment of zoning, taxes, and subsidies. Brookings. https://www.brookings.edu/policy2020/bigideas/to-improve-housing-affordability-we-need-better-alignment-of-zoning-taxes-and-subsidies/"
   ]
  }
 ],
 "metadata": {
  "kernelspec": {
   "display_name": "R",
   "language": "R",
   "name": "ir"
  },
  "language_info": {
   "codemirror_mode": "r",
   "file_extension": ".r",
   "mimetype": "text/x-r-source",
   "name": "R",
   "pygments_lexer": "r",
   "version": "4.0.3"
  }
 },
 "nbformat": 4,
 "nbformat_minor": 5
}
